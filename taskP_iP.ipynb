{
 "cells": [
  {
   "cell_type": "code",
   "execution_count": 1,
   "id": "d29f797c-ea41-48fc-af44-3b3945cdf1b9",
   "metadata": {},
   "outputs": [],
   "source": [
    "import os\n",
    "\n",
    "import torch\n",
    "from torch.utils.data import Dataset, DataLoader\n",
    "import torch.nn as nn\n",
    "\n",
    "import snntorch as snn\n",
    "from snntorch import surrogate\n",
    "from snntorch import spikegen\n",
    "from snntorch import functional\n",
    "from snntorch import LIF\n",
    "from snntorch import spikeplot as splt\n",
    "\n",
    "import pandas as pd\n",
    "import numpy as np\n",
    "import matplotlib.pyplot as plt\n",
    "import math\n",
    "from warnings import warn\n",
    "import csv\n",
    "\n",
    "from classes.Sine_Wave_Dataset import SW_P\n",
    "from classes.Custom_Loss import CustomLoss_task\n",
    "from classes import RSNN_iP,train1"
   ]
  },
  {
   "cell_type": "code",
   "execution_count": null,
   "id": "70c05888-4318-47f6-9cc5-4940bf3eaaad",
   "metadata": {},
   "outputs": [
    {
     "name": "stdout",
     "output_type": "stream",
     "text": [
      "loss: tensor(814.4905, grad_fn=<MseLossBackward0>)\n",
      "loss: tensor(801.3966, grad_fn=<MseLossBackward0>)\n",
      "loss: tensor(780.2096, grad_fn=<MseLossBackward0>)\n",
      "loss: tensor(774.7436, grad_fn=<MseLossBackward0>)\n",
      "loss: tensor(759.1942, grad_fn=<MseLossBackward0>)\n",
      "loss: tensor(742.2691, grad_fn=<MseLossBackward0>)\n",
      "loss: tensor(724.1340, grad_fn=<MseLossBackward0>)\n",
      "loss: tensor(716.4919, grad_fn=<MseLossBackward0>)\n",
      "loss: tensor(698.1472, grad_fn=<MseLossBackward0>)\n",
      "loss: tensor(683.2319, grad_fn=<MseLossBackward0>)\n"
     ]
    }
   ],
   "source": [
    "'''Sine Wave Task with:\n",
    "Amplitude=40, Period (40-100)\n",
    "I: PV\n",
    "'''\n",
    "datasetP = SW_P.SW_P('train_data/train_data_const_amp.csv')\n",
    "num_epochs = 1000\n",
    "num_timesteps = 300\n",
    "\n",
    "random_seed = 0\n",
    "\n",
    "for job in range(5):\n",
    "    # Set the random seed for Python's random module\n",
    "    random_seed += 1\n",
    "    torch.manual_seed(random_seed)\n",
    "    np.random.seed(random_seed)\n",
    "    \n",
    "    dataloaderP = DataLoader(datasetP, batch_size=25, shuffle=True)\n",
    "    loss_task = CustomLoss_task.CustomLoss_task()\n",
    "\n",
    "    net_iP = RSNN_iP.RSNN_iP()\n",
    "    optimizer_iP = torch.optim.Adam(net_iP.parameters(),lr=0.02)\n",
    "\n",
    "    train1.train_model16([job, net_iP, optimizer_iP,dataloaderP, loss_task, \"P\", \"P\", num_epochs, num_timesteps])"
   ]
  },
  {
   "cell_type": "code",
   "execution_count": null,
   "id": "a70ca8fe-d45a-4ac7-b8c0-9f9ab5e79119",
   "metadata": {},
   "outputs": [],
   "source": []
  }
 ],
 "metadata": {
  "kernelspec": {
   "display_name": "Python (rsnn_env)",
   "language": "python",
   "name": "rsnn_env"
  },
  "language_info": {
   "codemirror_mode": {
    "name": "ipython",
    "version": 3
   },
   "file_extension": ".py",
   "mimetype": "text/x-python",
   "name": "python",
   "nbconvert_exporter": "python",
   "pygments_lexer": "ipython3",
   "version": "3.8.19"
  }
 },
 "nbformat": 4,
 "nbformat_minor": 5
}
