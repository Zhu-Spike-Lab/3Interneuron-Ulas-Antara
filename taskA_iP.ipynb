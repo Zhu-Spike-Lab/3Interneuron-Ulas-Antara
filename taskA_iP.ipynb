{
 "cells": [
  {
   "cell_type": "code",
   "execution_count": 1,
   "id": "d29f797c-ea41-48fc-af44-3b3945cdf1b9",
   "metadata": {},
   "outputs": [],
   "source": [
    "import os\n",
    "\n",
    "import torch\n",
    "from torch.utils.data import Dataset, DataLoader\n",
    "import torch.nn as nn\n",
    "\n",
    "import snntorch as snn\n",
    "from snntorch import surrogate\n",
    "from snntorch import spikegen\n",
    "from snntorch import functional\n",
    "from snntorch import LIF\n",
    "from snntorch import spikeplot as splt\n",
    "\n",
    "import pandas as pd\n",
    "import numpy as np\n",
    "import matplotlib.pyplot as plt\n",
    "import math\n",
    "from warnings import warn\n",
    "import csv\n",
    "\n",
    "from classes.Sine_Wave_Dataset import SW_A\n",
    "from classes.Custom_Loss import CustomLoss_task\n",
    "from classes import RSNN_iP,train1"
   ]
  },
  {
   "cell_type": "code",
   "execution_count": null,
   "id": "70c05888-4318-47f6-9cc5-4940bf3eaaad",
   "metadata": {},
   "outputs": [
    {
     "name": "stdout",
     "output_type": "stream",
     "text": [
      "loss: tensor(1429.1147, grad_fn=<MseLossBackward0>)\n",
      "loss: tensor(1662.9128, grad_fn=<MseLossBackward0>)\n"
     ]
    }
   ],
   "source": [
    "'''Sine Wave Task with:\n",
    "Amplitude (20-80), Period=80\n",
    "I: PV\n",
    "'''\n",
    "datasetA = SW_A.SW_A('train_data/train_data_const_period.csv')\n",
    "\n",
    "random_seed = 0\n",
    "\n",
    "num_epochs = 1000\n",
    "num_timesteps = 300\n",
    "\n",
    "for job in range(5):\n",
    "    # Set the random seed for Python's random module\n",
    "    random_seed += 1\n",
    "    torch.manual_seed(random_seed)\n",
    "    np.random.seed(random_seed)\n",
    "    \n",
    "    dataloaderA = DataLoader(datasetA, batch_size=25, shuffle=True)\n",
    "    loss_task = CustomLoss_task.CustomLoss_task()\n",
    "\n",
    "    net_iP = RSNN_iP.RSNN_iP()\n",
    "    optimizer_iP = torch.optim.Adam(net_iP.parameters(),lr=0.02)\n",
    "\n",
    "    \n",
    "\n",
    "    train1.train_model16([job, net_iP, optimizer_iP,dataloaderA, loss_task, \"A\", \"P\", num_epochs, num_timesteps])"
   ]
  },
  {
   "cell_type": "code",
   "execution_count": null,
   "id": "7e65e039-0423-4c72-8a71-d1e654b8642a",
   "metadata": {},
   "outputs": [],
   "source": []
  }
 ],
 "metadata": {
  "kernelspec": {
   "display_name": "Python (rsnn_env)",
   "language": "python",
   "name": "rsnn_env"
  },
  "language_info": {
   "codemirror_mode": {
    "name": "ipython",
    "version": 3
   },
   "file_extension": ".py",
   "mimetype": "text/x-python",
   "name": "python",
   "nbconvert_exporter": "python",
   "pygments_lexer": "ipython3",
   "version": "3.8.19"
  }
 },
 "nbformat": 4,
 "nbformat_minor": 5
}
