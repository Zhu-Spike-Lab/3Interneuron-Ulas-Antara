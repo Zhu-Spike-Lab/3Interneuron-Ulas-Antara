{
 "cells": [
  {
   "cell_type": "code",
   "execution_count": 1,
   "id": "3e6a5107-a61e-4250-b542-28f872d42397",
   "metadata": {},
   "outputs": [],
   "source": [
    "'''Sine Wave Task with:\n",
    "Amplitude (20-80), Period (40-100)\n",
    "I: PV, SST\n",
    "'''\n",
    "\n",
    "import os\n",
    "import torch\n",
    "import snntorch as snn\n",
    "import matplotlib.pyplot as plt\n",
    "from snntorch import surrogate\n",
    "from snntorch import spikegen\n",
    "from snntorch import functional\n",
    "from snntorch import LIF\n",
    "from snntorch import spikeplot as splt\n",
    "import pandas as pd\n",
    "import numpy as np\n",
    "from torch.utils.data import Dataset, DataLoader\n",
    "import math\n",
    "from warnings import warn\n",
    "import torch.nn as nn\n",
    "import csv"
   ]
  },
  {
   "cell_type": "code",
   "execution_count": null,
   "id": "1100b664-0479-4c43-9745-f097ed04d931",
   "metadata": {},
   "outputs": [
    {
     "name": "stdout",
     "output_type": "stream",
     "text": [
      "loss: tensor(1172.9015, grad_fn=<MseLossBackward0>)\n",
      "loss: tensor(1345.3918, grad_fn=<MseLossBackward0>)\n",
      "loss: tensor(1348.7157, grad_fn=<MseLossBackward0>)\n",
      "loss: tensor(1087.1708, grad_fn=<MseLossBackward0>)\n",
      "loss: tensor(1480.1088, grad_fn=<MseLossBackward0>)\n",
      "loss: tensor(1240.6234, grad_fn=<MseLossBackward0>)\n",
      "loss: tensor(1121.3276, grad_fn=<MseLossBackward0>)\n"
     ]
    }
   ],
   "source": [
    "from classes.Sine_Wave_Dataset import SW_AP\n",
    "from classes.Custom_Loss import CustomLoss_task\n",
    "from classes import RSNN_iPS,train1\n",
    "\n",
    "# SineWave1 creates the dataset with input (Changing Amplitude, Changing Period, Clock-like Input)\n",
    "# Output (Sine wave)\n",
    "\n",
    "num_epochs = 1000\n",
    "num_timesteps = 300\n",
    "random_seed = 0\n",
    "\n",
    "for job in range(5):\n",
    "    # Set the random seed for Python's random module\n",
    "    random_seed += 1\n",
    "    torch.manual_seed(random_seed)\n",
    "    np.random.seed(random_seed)\n",
    "    \n",
    "    datasetAP = SW_AP.SW_AP('train_data/train_data_sine_hpc.csv')\n",
    "    dataloaderAP = DataLoader(datasetAP, batch_size=25, shuffle=True)\n",
    "    \n",
    "    loss_task = CustomLoss_task.CustomLoss_task()\n",
    "    net_iPS = RSNN_iPS.RSNN_iPS()\n",
    "    optimizer_iPS = torch.optim.Adam(net_iPS.parameters(),lr=0.02)\n",
    "\n",
    "    train1.train_model16([job, net_iPS, optimizer_iPS,dataloaderAP,loss_task, \"AP\", \"PS\", num_epochs, num_timesteps])\n",
    "    \n"
   ]
  },
  {
   "cell_type": "code",
   "execution_count": null,
   "id": "191cdc3f-0f51-46a6-b37d-4e0453cd8264",
   "metadata": {},
   "outputs": [],
   "source": []
  }
 ],
 "metadata": {
  "kernelspec": {
   "display_name": "Python (rsnn_env)",
   "language": "python",
   "name": "rsnn_env"
  },
  "language_info": {
   "codemirror_mode": {
    "name": "ipython",
    "version": 3
   },
   "file_extension": ".py",
   "mimetype": "text/x-python",
   "name": "python",
   "nbconvert_exporter": "python",
   "pygments_lexer": "ipython3",
   "version": "3.8.19"
  }
 },
 "nbformat": 4,
 "nbformat_minor": 5
}
