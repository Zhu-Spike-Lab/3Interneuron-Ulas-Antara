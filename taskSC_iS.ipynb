{
 "cells": [
  {
   "cell_type": "code",
   "execution_count": null,
   "id": "d29f797c-ea41-48fc-af44-3b3945cdf1b9",
   "metadata": {},
   "outputs": [],
   "source": [
    "import os\n",
    "\n",
    "import torch\n",
    "from torch.utils.data import Dataset, DataLoader\n",
    "import torch.nn as nn\n",
    "\n",
    "import snntorch as snn\n",
    "from snntorch import surrogate\n",
    "from snntorch import spikegen\n",
    "from snntorch import functional\n",
    "from snntorch import LIF\n",
    "from snntorch import spikeplot as splt\n",
    "\n",
    "import pandas as pd\n",
    "import numpy as np\n",
    "import matplotlib.pyplot as plt\n",
    "import math\n",
    "from warnings import warn\n",
    "import csv\n",
    "\n",
    "from classes.Sine_Wave_Dataset import SW_SC\n",
    "from classes.Custom_Loss import CustomLoss_task\n",
    "from classes import RSNN_iS,train1"
   ]
  },
  {
   "cell_type": "code",
   "execution_count": null,
   "id": "70c05888-4318-47f6-9cc5-4940bf3eaaad",
   "metadata": {},
   "outputs": [],
   "source": [
    "'''Sine Wave Task with:\n",
    "Synchronization Continuation\n",
    "Amplitude=(20-100), Period (40-100)\n",
    "I: SST\n",
    "'''\n",
    "\n",
    "datasetSC = SW_SC.SW_SC('train_data/train_data_sine_hpc.csv')\n",
    "\n",
    "random_seed = 0\n",
    "num_epochs = 1000\n",
    "num_timesteps = 300\n",
    "\n",
    "for job in range(5):\n",
    "    # Set the random seed for Python's random module\n",
    "    random_seed += 1\n",
    "    torch.manual_seed(random_seed)\n",
    "    np.random.seed(random_seed)\n",
    "    dataloaderSC = DataLoader(datasetSC, batch_size=25, shuffle=True)\n",
    "    \n",
    "    loss_task = CustomLoss_task.CustomLoss_task()\n",
    "\n",
    "    net_iS = RSNN_iS.RSNN_iS()\n",
    "    optimizer_iS = torch.optim.Adam(net_iS.parameters(),lr=0.02)\n",
    "\n",
    "\n",
    "    train1.train_model16([job, net_iS, optimizer_iS,dataloaderSC, loss_task, \"SC\", \"S\", num_epochs, num_timesteps])"
   ]
  }
 ],
 "metadata": {
  "kernelspec": {
   "display_name": "Python 3.12.5 64-bit ('3.12.5')",
   "language": "python",
   "name": "python3"
  },
  "language_info": {
   "codemirror_mode": {
    "name": "ipython",
    "version": 3
   },
   "file_extension": ".py",
   "mimetype": "text/x-python",
   "name": "python",
   "nbconvert_exporter": "python",
   "pygments_lexer": "ipython3",
   "version": "3.12.5"
  },
  "vscode": {
   "interpreter": {
    "hash": "0128fb4154e6ca7d094dabf476c4b7d6da30be30fca61b545b985ca73c4b4d63"
   }
  }
 },
 "nbformat": 4,
 "nbformat_minor": 5
}
