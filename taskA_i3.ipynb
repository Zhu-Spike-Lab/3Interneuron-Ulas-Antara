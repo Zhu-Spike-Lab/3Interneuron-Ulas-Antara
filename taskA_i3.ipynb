{
 "cells": [
  {
   "cell_type": "code",
   "execution_count": null,
   "id": "d29f797c-ea41-48fc-af44-3b3945cdf1b9",
   "metadata": {},
   "outputs": [],
   "source": [
    "import os\n",
    "\n",
    "import torch\n",
    "from torch.utils.data import Dataset, DataLoader\n",
    "import torch.nn as nn\n",
    "\n",
    "import snntorch as snn\n",
    "from snntorch import surrogate\n",
    "from snntorch import spikegen\n",
    "from snntorch import functional\n",
    "from snntorch import LIF\n",
    "from snntorch import spikeplot as splt\n",
    "\n",
    "import pandas as pd\n",
    "import numpy as np\n",
    "import matplotlib.pyplot as plt\n",
    "import math\n",
    "from warnings import warn\n",
    "import csv"
   ]
  },
  {
   "cell_type": "code",
   "execution_count": null,
   "id": "70c05888-4318-47f6-9cc5-4940bf3eaaad",
   "metadata": {},
   "outputs": [
    {
     "name": "stdout",
     "output_type": "stream",
     "text": [
      "loss: tensor(1425.1879, grad_fn=<MseLossBackward0>)\n",
      "loss: tensor(1659.0826, grad_fn=<MseLossBackward0>)\n",
      "loss: tensor(1557.3494, grad_fn=<MseLossBackward0>)\n"
     ]
    }
   ],
   "source": [
    "from classes.Sine_Wave_Dataset import SW_A\n",
    "from classes.Custom_Loss import CustomLoss_task\n",
    "from classes import RSNN_i3,train1\n",
    "\n",
    "'''Sine Wave Task with:\n",
    "Amplitude (20-80), Period=80\n",
    "I: PV, SST, 5HT\n",
    "'''\n",
    "\n",
    "datasetA = SW_A.SW_A('train_data/train_data_const_period.csv')\n",
    "\n",
    "num_epochs = 1000\n",
    "num_timesteps = 300\n",
    "\n",
    "random_seed = 0\n",
    "\n",
    "for job in range(5):\n",
    "    # Set the random seed for Python's random module\n",
    "    random_seed += 1\n",
    "    torch.manual_seed(random_seed)\n",
    "    np.random.seed(random_seed)\n",
    "    \n",
    "    dataloaderA = DataLoader(datasetA, batch_size=25, shuffle=True)\n",
    "    \n",
    "    loss_task = CustomLoss_task.CustomLoss_task()\n",
    "\n",
    "    net_i3 = RSNN_i3.RSNN_i3()\n",
    "    optimizer_i3 = torch.optim.Adam(net_i3.parameters(),lr=0.02)\n",
    "\n",
    "    train1.train_model16([job, net_i3, optimizer_i3, dataloaderA, loss_task, \"A\", \"3\", num_epochs, num_timesteps])"
   ]
  },
  {
   "cell_type": "code",
   "execution_count": null,
   "id": "ebbbdc3d-a282-4f2b-911d-e3d9157200ba",
   "metadata": {},
   "outputs": [],
   "source": []
  }
 ],
 "metadata": {
  "kernelspec": {
   "display_name": "Python (rsnn_env)",
   "language": "python",
   "name": "rsnn_env"
  },
  "language_info": {
   "codemirror_mode": {
    "name": "ipython",
    "version": 3
   },
   "file_extension": ".py",
   "mimetype": "text/x-python",
   "name": "python",
   "nbconvert_exporter": "python",
   "pygments_lexer": "ipython3",
   "version": "3.8.19"
  }
 },
 "nbformat": 4,
 "nbformat_minor": 5
}
