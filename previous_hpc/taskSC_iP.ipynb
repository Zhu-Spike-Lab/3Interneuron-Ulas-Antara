{
 "cells": [
  {
   "cell_type": "code",
   "execution_count": 1,
   "id": "d29f797c-ea41-48fc-af44-3b3945cdf1b9",
   "metadata": {},
   "outputs": [],
   "source": [
    "import os\n",
    "\n",
    "import torch\n",
    "from torch.utils.data import Dataset, DataLoader\n",
    "import torch.nn as nn\n",
    "\n",
    "import snntorch as snn\n",
    "from snntorch import surrogate\n",
    "from snntorch import spikegen\n",
    "from snntorch import functional\n",
    "from snntorch import LIF\n",
    "from snntorch import spikeplot as splt\n",
    "\n",
    "import pandas as pd\n",
    "import numpy as np\n",
    "import matplotlib.pyplot as plt\n",
    "import math\n",
    "from warnings import warn\n",
    "import csv\n",
    "\n",
    "from classes.Sine_Wave_Dataset import SW_SC\n",
    "from classes.Custom_Loss import CustomLoss_task\n",
    "from classes import RSNN_iP,train1"
   ]
  },
  {
   "cell_type": "code",
   "execution_count": null,
   "id": "70c05888-4318-47f6-9cc5-4940bf3eaaad",
   "metadata": {},
   "outputs": [
    {
     "name": "stdout",
     "output_type": "stream",
     "text": [
      "loss: tensor(1487.2108, grad_fn=<MseLossBackward0>)\n",
      "loss: tensor(1766.3969, grad_fn=<MseLossBackward0>)\n",
      "loss: tensor(1397.8224, grad_fn=<MseLossBackward0>)\n",
      "loss: tensor(768.1378, grad_fn=<MseLossBackward0>)\n",
      "loss: tensor(1228.2925, grad_fn=<MseLossBackward0>)\n",
      "loss: tensor(1170.4858, grad_fn=<MseLossBackward0>)\n",
      "loss: tensor(1312.2201, grad_fn=<MseLossBackward0>)\n",
      "loss: tensor(1247.3063, grad_fn=<MseLossBackward0>)\n",
      "loss: tensor(1563.6707, grad_fn=<MseLossBackward0>)\n",
      "loss: tensor(1446.8337, grad_fn=<MseLossBackward0>)\n",
      "loss: tensor(1444.7432, grad_fn=<MseLossBackward0>)\n",
      "loss: tensor(1361.5182, grad_fn=<MseLossBackward0>)\n"
     ]
    }
   ],
   "source": [
    "'''Sine Wave Task with:\n",
    "Synchronization Continuation\n",
    "Amplitude=(20-100), Period (40-100)\n",
    "I: PV\n",
    "'''\n",
    "datasetSC = SW_SC.SW_SC('train_data/train_data_sine_hpc.csv')\n",
    "\n",
    "for job in range(5):\n",
    "    dataloaderSC = DataLoader(datasetSC, batch_size=25, shuffle=True)\n",
    "    loss_task = CustomLoss_task.CustomLoss_task()\n",
    "\n",
    "    net_iP = RSNN_iP.RSNN_iP()\n",
    "    optimizer_iP = torch.optim.Adam(net_iP.parameters(),lr=0.02)\n",
    "\n",
    "    num_epochs = 11\n",
    "    num_timesteps = 300\n",
    "\n",
    "    train1.train_model16([job, net_iP, optimizer_iP,dataloaderSC, loss_task, \"SC\", \"P\", num_epochs, num_timesteps])"
   ]
  },
  {
   "cell_type": "code",
   "execution_count": null,
   "id": "089727cd-9f87-4e29-9e7e-5025d1860234",
   "metadata": {},
   "outputs": [],
   "source": []
  }
 ],
 "metadata": {
  "kernelspec": {
   "display_name": "Python (rsnn_env)",
   "language": "python",
   "name": "rsnn_env"
  },
  "language_info": {
   "codemirror_mode": {
    "name": "ipython",
    "version": 3
   },
   "file_extension": ".py",
   "mimetype": "text/x-python",
   "name": "python",
   "nbconvert_exporter": "python",
   "pygments_lexer": "ipython3",
   "version": "3.8.19"
  }
 },
 "nbformat": 4,
 "nbformat_minor": 5
}
