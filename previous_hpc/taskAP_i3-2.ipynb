{
 "cells": [
  {
   "cell_type": "code",
   "execution_count": 1,
   "id": "3e6a5107-a61e-4250-b542-28f872d42397",
   "metadata": {},
   "outputs": [],
   "source": [
    "'''Sine Wave Task with:\n",
    "Amplitude (20-80), Period (40-100)\n",
    "I: PV, SST, 5HT\n",
    "'''\n",
    "\n",
    "import os\n",
    "import torch\n",
    "import snntorch as snn\n",
    "import matplotlib.pyplot as plt\n",
    "from snntorch import surrogate\n",
    "from snntorch import spikegen\n",
    "from snntorch import functional\n",
    "from snntorch import LIF\n",
    "from snntorch import spikeplot as splt\n",
    "import pandas as pd\n",
    "import numpy as np\n",
    "from torch.utils.data import Dataset, DataLoader\n",
    "import math\n",
    "from warnings import warn\n",
    "import torch.nn as nn\n",
    "import csv"
   ]
  },
  {
   "cell_type": "code",
   "execution_count": 2,
   "id": "1100b664-0479-4c43-9745-f097ed04d931",
   "metadata": {},
   "outputs": [
    {
     "name": "stdout",
     "output_type": "stream",
     "text": [
      "loss: tensor(1407.2784, grad_fn=<MseLossBackward0>)\n",
      "false pos: 0\n",
      "false neg: 0\n",
      "excitatory zero indices2\n"
     ]
    },
    {
     "ename": "RuntimeError",
     "evalue": "random_ expects 'from' to be less than 'to', but got from=0 >= to=0",
     "output_type": "error",
     "traceback": [
      "\u001b[0;31m---------------------------------------------------------------------------\u001b[0m",
      "\u001b[0;31mRuntimeError\u001b[0m                              Traceback (most recent call last)",
      "Cell \u001b[0;32mIn[2], line 24\u001b[0m\n\u001b[1;32m     21\u001b[0m net_i3 \u001b[38;5;241m=\u001b[39m RSNN_i3\u001b[38;5;241m.\u001b[39mRSNN_i3()\n\u001b[1;32m     22\u001b[0m optimizer_i3 \u001b[38;5;241m=\u001b[39m torch\u001b[38;5;241m.\u001b[39moptim\u001b[38;5;241m.\u001b[39mAdam(net_i3\u001b[38;5;241m.\u001b[39mparameters(),lr\u001b[38;5;241m=\u001b[39m\u001b[38;5;241m0.02\u001b[39m)\n\u001b[0;32m---> 24\u001b[0m \u001b[43mtrain1\u001b[49m\u001b[38;5;241;43m.\u001b[39;49m\u001b[43mtrain_model16\u001b[49m\u001b[43m(\u001b[49m\u001b[43m[\u001b[49m\u001b[43mjob\u001b[49m\u001b[43m,\u001b[49m\u001b[43m \u001b[49m\u001b[43mnet_i3\u001b[49m\u001b[43m,\u001b[49m\u001b[43m \u001b[49m\u001b[43moptimizer_i3\u001b[49m\u001b[43m,\u001b[49m\u001b[43mdataloaderAP\u001b[49m\u001b[43m,\u001b[49m\u001b[43mloss_task\u001b[49m\u001b[43m,\u001b[49m\u001b[43m \u001b[49m\u001b[38;5;124;43m\"\u001b[39;49m\u001b[38;5;124;43mAP\u001b[39;49m\u001b[38;5;124;43m\"\u001b[39;49m\u001b[43m,\u001b[49m\u001b[43m \u001b[49m\u001b[38;5;124;43m\"\u001b[39;49m\u001b[38;5;124;43m3\u001b[39;49m\u001b[38;5;124;43m\"\u001b[39;49m\u001b[43m,\u001b[49m\u001b[43m \u001b[49m\u001b[43mnum_epochs\u001b[49m\u001b[43m,\u001b[49m\u001b[43m \u001b[49m\u001b[43mnum_timesteps\u001b[49m\u001b[43m]\u001b[49m\u001b[43m)\u001b[49m\n",
      "File \u001b[0;32m/bigdata/rhome/iuaa2020/classes/train1.py:30\u001b[0m, in \u001b[0;36mtrain_model16\u001b[0;34m(args)\u001b[0m\n\u001b[1;32m     27\u001b[0m loss\u001b[38;5;241m.\u001b[39mbackward()\n\u001b[1;32m     28\u001b[0m optimizer\u001b[38;5;241m.\u001b[39mstep()\n\u001b[0;32m---> 30\u001b[0m \u001b[43mmodel\u001b[49m\u001b[38;5;241;43m.\u001b[39;49m\u001b[43mpositive_negative_weights\u001b[49m\u001b[43m(\u001b[49m\u001b[43m)\u001b[49m\n\u001b[1;32m     32\u001b[0m epoch_loss \u001b[38;5;241m+\u001b[39m\u001b[38;5;241m=\u001b[39m loss\u001b[38;5;241m.\u001b[39mitem()\n\u001b[1;32m     34\u001b[0m \u001b[38;5;28;01mif\u001b[39;00m epoch \u001b[38;5;241m%\u001b[39m \u001b[38;5;241m10\u001b[39m \u001b[38;5;241m==\u001b[39m \u001b[38;5;241m0\u001b[39m:\n",
      "File \u001b[0;32m/bigdata/rhome/iuaa2020/classes/RSNN_i3.py:127\u001b[0m, in \u001b[0;36mRSNN_i3.positive_negative_weights\u001b[0;34m(self)\u001b[0m\n\u001b[1;32m    121\u001b[0m \u001b[38;5;28mprint\u001b[39m(\u001b[38;5;124mf\u001b[39m\u001b[38;5;124m\"\u001b[39m\u001b[38;5;124mexcitatory zero indices\u001b[39m\u001b[38;5;132;01m{\u001b[39;00m\u001b[38;5;28mlen\u001b[39m(excitatory_zero_indices)\u001b[38;5;132;01m}\u001b[39;00m\u001b[38;5;124m\"\u001b[39m)\n\u001b[1;32m    122\u001b[0m \u001b[38;5;28;01mif\u001b[39;00m (\u001b[38;5;28mlen\u001b[39m(excitatory_zero_indices) \u001b[38;5;241m>\u001b[39m num_false_pos):\n\u001b[1;32m    123\u001b[0m     \u001b[38;5;66;03m#creates num_false_pos integers between 0-excitatory_zero_indices[0]\u001b[39;00m\n\u001b[1;32m    124\u001b[0m     \u001b[38;5;66;03m#randomly selects row and column indices, (between 0 and len(excitatory_zero_indices[0]) to change with a future randomly generated value.\u001b[39;00m\n\u001b[1;32m    125\u001b[0m     \u001b[38;5;66;03m#of the shape (num_false_pos,2) where [:,0] lists the row indices of all new excitatory values, and [:,1] the column\u001b[39;00m\n\u001b[1;32m    126\u001b[0m     excitatory_sampled_indices \u001b[38;5;241m=\u001b[39m torch\u001b[38;5;241m.\u001b[39mstack([\n\u001b[0;32m--> 127\u001b[0m             excitatory_zero_indices[\u001b[38;5;241m0\u001b[39m][\u001b[43mtorch\u001b[49m\u001b[38;5;241;43m.\u001b[39;49m\u001b[43mrandint\u001b[49m\u001b[43m(\u001b[49m\u001b[38;5;28;43mlen\u001b[39;49m\u001b[43m(\u001b[49m\u001b[43mexcitatory_zero_indices\u001b[49m\u001b[43m[\u001b[49m\u001b[38;5;241;43m0\u001b[39;49m\u001b[43m]\u001b[49m\u001b[43m)\u001b[49m\u001b[43m,\u001b[49m\u001b[43m \u001b[49m\u001b[43m(\u001b[49m\u001b[43mnum_false_pos\u001b[49m\u001b[43m,\u001b[49m\u001b[43m)\u001b[49m\u001b[43m)\u001b[49m],\n\u001b[1;32m    128\u001b[0m             excitatory_zero_indices[\u001b[38;5;241m1\u001b[39m][torch\u001b[38;5;241m.\u001b[39mrandint(\u001b[38;5;28mlen\u001b[39m(excitatory_zero_indices[\u001b[38;5;241m1\u001b[39m]), (num_false_pos,))]\n\u001b[1;32m    129\u001b[0m         ], dim\u001b[38;5;241m=\u001b[39m\u001b[38;5;241m1\u001b[39m)\n\u001b[1;32m    131\u001b[0m     \u001b[38;5;66;03m# excitatory_sampled_indices is of shape (num_false_pos,2), listing randomly selected indices for columns and rows for updating the matrix\u001b[39;00m\n\u001b[1;32m    132\u001b[0m     \n\u001b[1;32m    133\u001b[0m     \u001b[38;5;66;03m# generating self.excitatory_changes number of lognormal values\u001b[39;00m\n\u001b[1;32m    134\u001b[0m     new_excitatory_values \u001b[38;5;241m=\u001b[39m torch\u001b[38;5;241m.\u001b[39mfrom_numpy(np\u001b[38;5;241m.\u001b[39mrandom\u001b[38;5;241m.\u001b[39mlognormal(mean\u001b[38;5;241m=\u001b[39mmu, sigma\u001b[38;5;241m=\u001b[39msigma, size\u001b[38;5;241m=\u001b[39mnum_false_pos))\u001b[38;5;241m.\u001b[39mfloat()\n",
      "\u001b[0;31mRuntimeError\u001b[0m: random_ expects 'from' to be less than 'to', but got from=0 >= to=0"
     ]
    }
   ],
   "source": [
    "from classes.Sine_Wave_Dataset import SW_AP\n",
    "from classes.Custom_Loss import CustomLoss_task\n",
    "from classes import RSNN_i3,train1\n",
    "\n",
    "datasetAP = SW_AP.SW_AP('train_data/train_data_sine_hpc.csv')\n",
    "\n",
    "num_epochs = 1000\n",
    "num_timesteps = 300\n",
    "    \n",
    "random_seed = 3\n",
    "\n",
    "for job in range(3,10):\n",
    "    # Set the random seed for Python's random module\n",
    "    random_seed += 1\n",
    "    torch.manual_seed(random_seed)\n",
    "    np.random.seed(random_seed)\n",
    "    \n",
    "    dataloaderAP = DataLoader(datasetAP, batch_size=25, shuffle=True)\n",
    "    \n",
    "    loss_task = CustomLoss_task.CustomLoss_task()\n",
    "    net_i3 = RSNN_i3.RSNN_i3()\n",
    "    optimizer_i3 = torch.optim.Adam(net_i3.parameters(),lr=0.02)\n",
    "\n",
    "    train1.train_model16([job, net_i3, optimizer_i3,dataloaderAP,loss_task, \"AP\", \"3\", num_epochs, num_timesteps])\n",
    "\n"
   ]
  },
  {
   "cell_type": "code",
   "execution_count": null,
   "id": "74bc1090-f27d-475b-8758-ee511fb157be",
   "metadata": {},
   "outputs": [],
   "source": []
  }
 ],
 "metadata": {
  "kernelspec": {
   "display_name": "Python (rsnn_env)",
   "language": "python",
   "name": "rsnn_env"
  },
  "language_info": {
   "codemirror_mode": {
    "name": "ipython",
    "version": 3
   },
   "file_extension": ".py",
   "mimetype": "text/x-python",
   "name": "python",
   "nbconvert_exporter": "python",
   "pygments_lexer": "ipython3",
   "version": "3.8.19"
  }
 },
 "nbformat": 4,
 "nbformat_minor": 5
}
