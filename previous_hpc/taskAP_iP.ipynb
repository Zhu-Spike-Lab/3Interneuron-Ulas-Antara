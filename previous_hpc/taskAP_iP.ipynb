{
 "cells": [
  {
   "cell_type": "code",
   "execution_count": 1,
   "id": "3e6a5107-a61e-4250-b542-28f872d42397",
   "metadata": {},
   "outputs": [],
   "source": [
    "'''Sine Wave Task with:\n",
    "Amplitude (20-80), Period (40-100)\n",
    "I: PV\n",
    "'''\n",
    "\n",
    "import os\n",
    "import torch\n",
    "import snntorch as snn\n",
    "import matplotlib.pyplot as plt\n",
    "from snntorch import surrogate\n",
    "from snntorch import spikegen\n",
    "from snntorch import functional\n",
    "from snntorch import LIF\n",
    "from snntorch import spikeplot as splt\n",
    "import pandas as pd\n",
    "import numpy as np\n",
    "from torch.utils.data import Dataset, DataLoader\n",
    "import math\n",
    "from warnings import warn\n",
    "import torch.nn as nn\n",
    "import csv"
   ]
  },
  {
   "cell_type": "code",
   "execution_count": null,
   "id": "1100b664-0479-4c43-9745-f097ed04d931",
   "metadata": {},
   "outputs": [
    {
     "name": "stdout",
     "output_type": "stream",
     "text": [
      "loss: tensor(1181.5024, grad_fn=<MseLossBackward0>)\n",
      "loss: tensor(1354.9075, grad_fn=<MseLossBackward0>)\n",
      "loss: tensor(1360.2404, grad_fn=<MseLossBackward0>)\n",
      "loss: tensor(1091.0419, grad_fn=<MseLossBackward0>)\n",
      "loss: tensor(1468.4541, grad_fn=<MseLossBackward0>)\n",
      "loss: tensor(1221.6696, grad_fn=<MseLossBackward0>)\n",
      "loss: tensor(1102.6161, grad_fn=<MseLossBackward0>)\n",
      "loss: tensor(1286.0820, grad_fn=<MseLossBackward0>)\n",
      "loss: tensor(1495.5439, grad_fn=<MseLossBackward0>)\n",
      "loss: tensor(1292.8936, grad_fn=<MseLossBackward0>)\n",
      "loss: tensor(1279.4237, grad_fn=<MseLossBackward0>)\n",
      "loss: tensor(1299.4922, grad_fn=<MseLossBackward0>)\n",
      "loss: tensor(965.9326, grad_fn=<MseLossBackward0>)\n",
      "loss: tensor(1141.8010, grad_fn=<MseLossBackward0>)\n"
     ]
    }
   ],
   "source": [
    "from classes.Sine_Wave_Dataset import SW_AP\n",
    "from classes.Custom_Loss import CustomLoss_task\n",
    "from classes import RSNN_iP,train1\n",
    "\n",
    "# SineWave1 creates the dataset with input (Changing Amplitude, Changing Period, Clock-like Input)\n",
    "# Output (Sine wave)\n",
    "datasetAP = SW_AP.SW_AP('train_data/train_data_sine_hpc.csv')\n",
    "\n",
    "num_epochs = 1000\n",
    "num_timesteps = 300\n",
    "    \n",
    "random_seed = 0\n",
    "\n",
    "for job in range(5):\n",
    "    # Set the random seed for Python's random module\n",
    "    random_seed += 1\n",
    "    torch.manual_seed(random_seed)\n",
    "    np.random.seed(random_seed)\n",
    "    \n",
    "    dataloaderAP = DataLoader(datasetAP, batch_size=25, shuffle=True)\n",
    "    \n",
    "    loss_task = CustomLoss_task.CustomLoss_task()\n",
    "    net_iP = RSNN_iP.RSNN_iP()\n",
    "    optimizer_iP = torch.optim.Adam(net_iP.parameters(),lr=0.02)\n",
    "\n",
    "    train1.train_model16([job, net_iP, optimizer_iP,dataloaderAP,loss_task, \"AP\", \"P\", num_epochs, num_timesteps])\n",
    "\n"
   ]
  },
  {
   "cell_type": "code",
   "execution_count": null,
   "id": "5ee9c9f8-80e5-4286-a0ba-14ad42a29084",
   "metadata": {},
   "outputs": [],
   "source": []
  }
 ],
 "metadata": {
  "kernelspec": {
   "display_name": "Python (rsnn_env)",
   "language": "python",
   "name": "rsnn_env"
  },
  "language_info": {
   "codemirror_mode": {
    "name": "ipython",
    "version": 3
   },
   "file_extension": ".py",
   "mimetype": "text/x-python",
   "name": "python",
   "nbconvert_exporter": "python",
   "pygments_lexer": "ipython3",
   "version": "3.8.19"
  }
 },
 "nbformat": 4,
 "nbformat_minor": 5
}
